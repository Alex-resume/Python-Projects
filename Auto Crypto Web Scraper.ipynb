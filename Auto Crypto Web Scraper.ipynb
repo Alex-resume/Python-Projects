{
 "cells": [
  {
   "cell_type": "markdown",
   "id": "6f0f916f-f2d3-43b1-9547-3b1fbaa412e1",
   "metadata": {},
   "source": [
    "# Auto Crypto Website Scraper"
   ]
  },
  {
   "cell_type": "code",
   "execution_count": 53,
   "id": "f867fa4a-9be9-48ec-b0d2-9c094f1ffc79",
   "metadata": {},
   "outputs": [],
   "source": [
    "from bs4 import BeautifulSoup\n",
    "import requests\n",
    "import pandas as pd\n",
    "from datetime import datetime\n",
    "import os\n",
    "import time"
   ]
  },
  {
   "cell_type": "code",
   "execution_count": 75,
   "id": "135db8bd-e626-4361-b422-317cc43b9e59",
   "metadata": {},
   "outputs": [],
   "source": [
    "def auto_crypto_pull():\n",
    "\n",
    "    url = 'https://coinmarketcap.com/currencies/bitcoin/'\n",
    "    page = requests.get(url)\n",
    "# pulling page from URL\n",
    "    \n",
    "    pull = BeautifulSoup(page.text, 'html')\n",
    "    \n",
    "    crypto_namespan = pull.find('span', class_ = \"sc-65e7f566-0 lsTl\")\n",
    "    for nested in crypto_namespan.find_all('span'):\n",
    "        nested.decompose()\n",
    "# there is a nested span inside the span that contains the name of the crypto \"Bitcoin\", this is to remove the nested span\n",
    "    \n",
    "    crypto_name = pull.find('span', class_ = \"sc-65e7f566-0 lsTl\").text\n",
    "# a second pull is conducted to pull the name without any other text\n",
    "    \n",
    "    crypto_price = pull.find('span', class_ = \"sc-65e7f566-0 esyGGG base-text\").text\n",
    "# pulling the price of the bitcoin\n",
    "    \n",
    "    date_time = datetime.now()\n",
    "#a timer that display the current time\n",
    "    \n",
    "    headers = {'Name': crypto_name,\n",
    "              'Price': crypto_price,\n",
    "              'TimeStamp':date_time}\n",
    "    \n",
    "    df = pd.DataFrame([headers])\n",
    "    \n",
    "    print(df)"
   ]
  },
  {
   "cell_type": "code",
   "execution_count": 77,
   "id": "4382eeea-8aa8-4dae-be4b-63b78927f59a",
   "metadata": {},
   "outputs": [
    {
     "name": "stdout",
     "output_type": "stream",
     "text": [
      "      Name        Price                  TimeStamp\n",
      "0  Bitcoin  $104,589.92 2025-05-20 10:41:03.921625\n",
      "      Name        Price                  TimeStamp\n",
      "0  Bitcoin  $104,589.92 2025-05-20 10:41:14.118598\n",
      "      Name        Price                  TimeStamp\n",
      "0  Bitcoin  $104,589.92 2025-05-20 10:41:24.325753\n"
     ]
    },
    {
     "ename": "KeyboardInterrupt",
     "evalue": "",
     "output_type": "error",
     "traceback": [
      "\u001b[1;31m---------------------------------------------------------------------------\u001b[0m",
      "\u001b[1;31mKeyboardInterrupt\u001b[0m                         Traceback (most recent call last)",
      "Cell \u001b[1;32mIn[77], line 3\u001b[0m\n\u001b[0;32m      1\u001b[0m \u001b[38;5;28;01mwhile\u001b[39;00m \u001b[38;5;28;01mTrue\u001b[39;00m:\n\u001b[0;32m      2\u001b[0m     auto_crypto_pull()\n\u001b[1;32m----> 3\u001b[0m     time\u001b[38;5;241m.\u001b[39msleep(\u001b[38;5;241m10\u001b[39m)\n",
      "\u001b[1;31mKeyboardInterrupt\u001b[0m: "
     ]
    }
   ],
   "source": [
    "while True:\n",
    "    auto_crypto_pull()\n",
    "    time.sleep(10)\n",
    "#Automation of the process on a 10 second timer"
   ]
  },
  {
   "cell_type": "markdown",
   "id": "e1a4336d-7d81-4109-a30c-7bc2f5d49a38",
   "metadata": {},
   "source": [
    "### Test files below"
   ]
  },
  {
   "cell_type": "code",
   "execution_count": 47,
   "id": "595b6796-e8e9-4039-87a4-84be5a380d7b",
   "metadata": {},
   "outputs": [
    {
     "name": "stdout",
     "output_type": "stream",
     "text": [
      "Bitcoin\n"
     ]
    }
   ],
   "source": [
    "cryp_namespan = pull.find('span', class_ = \"sc-65e7f566-0 lsTl\")\n",
    "for nested in cryp_namespan.find_all('span'):\n",
    "    nested.decompose()\n",
    "cryp_name = pull.find('span', class_ = \"sc-65e7f566-0 lsTl\").text\n",
    "\n",
    "print (cryp_name)"
   ]
  },
  {
   "cell_type": "code",
   "execution_count": 21,
   "id": "8200f8fd-0e7c-414c-b688-5251ae952f19",
   "metadata": {},
   "outputs": [
    {
     "name": "stdout",
     "output_type": "stream",
     "text": [
      "$104,643.63\n"
     ]
    }
   ],
   "source": [
    "cry_price = pull.find('span', class_ = \"sc-65e7f566-0 esyGGG base-text\").text\n",
    "print (cry_price)"
   ]
  },
  {
   "cell_type": "code",
   "execution_count": 51,
   "id": "fa9a2dae-d27a-45e9-ac1a-d6515cb6f12a",
   "metadata": {},
   "outputs": [
    {
     "name": "stdout",
     "output_type": "stream",
     "text": [
      "2025-05-20 10:03:00.097729\n"
     ]
    }
   ],
   "source": [
    "date_time = datetime.now()\n",
    "print (date_time)"
   ]
  },
  {
   "cell_type": "code",
   "execution_count": null,
   "id": "421cc3a6-f365-4ca2-b51c-52cab7c8e024",
   "metadata": {},
   "outputs": [],
   "source": []
  }
 ],
 "metadata": {
  "kernelspec": {
   "display_name": "Python [conda env:base] *",
   "language": "python",
   "name": "conda-base-py"
  },
  "language_info": {
   "codemirror_mode": {
    "name": "ipython",
    "version": 3
   },
   "file_extension": ".py",
   "mimetype": "text/x-python",
   "name": "python",
   "nbconvert_exporter": "python",
   "pygments_lexer": "ipython3",
   "version": "3.12.7"
  }
 },
 "nbformat": 4,
 "nbformat_minor": 5
}
