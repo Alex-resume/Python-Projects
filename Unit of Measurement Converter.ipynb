{
 "cells": [
  {
   "cell_type": "markdown",
   "id": "a2d2b961-6924-4aa1-91c4-cb0e007cc2d3",
   "metadata": {},
   "source": [
    "## Unit of Measurement Converter\n",
    "Converts inches, feet, and yards from and to each other."
   ]
  },
  {
   "cell_type": "code",
   "execution_count": 77,
   "id": "fb3b67ca-cb02-4634-ad20-a17239aa5929",
   "metadata": {},
   "outputs": [
    {
     "name": "stdin",
     "output_type": "stream",
     "text": [
      "Enter starting unit of measurement (inches, feet, or yards): in\n",
      "Enter unit of measurement to convert to (inches, feet, or yards): ft\n",
      "Enter number of inches:  12\n"
     ]
    },
    {
     "name": "stdout",
     "output_type": "stream",
     "text": [
      "12 inches = 1.0 feet\n"
     ]
    }
   ],
   "source": [
    "convert_from = input('Enter starting unit of measurement (inches, feet, or yards):')\n",
    "convert_to = input('Enter unit of measurement to convert to (inches, feet, or yards):')\n",
    "# getting the units to convert to and from\n",
    "\n",
    "if convert_from.lower() in ['inches', 'in', 'inch']:\n",
    "# lower() and in statement + list is used to ensure different spelling/capitalization of inches is accepted\n",
    "    num_in = int(input('Enter number of inches: '))\n",
    "# var is converted to int to enable it for calculations\n",
    "    if convert_to.lower() in ['feet','foot','ft']:\n",
    "        print(str(num_in) + ' inches = ' + str(round(num_in / 12,2)) + ' feet')\n",
    "# var is converted to str for text display\n",
    "# var is rounded to avoid repeating decimals\n",
    "    elif convert_to.lower() in ['yards','yard','yd']:\n",
    "        print(str(num_in) + ' inches = ' + str(round(num_in / 36,2)) + ' yards')\n",
    "    else:\n",
    "        print('Your input is invalid!')\n",
    "elif convert_from.lower() in ['feet', 'ft', 'foot']:\n",
    "    num_ft = int(input('Enter number of feet: '))\n",
    "    if convert_to.lower() in ['inches', 'in', 'inch']:\n",
    "        print(str(num_ft) + ' feet = ' + str(num_ft * 12) + ' inches')\n",
    "    elif convert_to.lower() in ['yards','yard','yd']:\n",
    "        print(str(num_ft) + ' feet = ' + str(round(num_ft / 3,2)) + ' yards')\n",
    "    else:\n",
    "        print('Your input is invalid!')\n",
    "elif convert_from.lower() in ['yards','yard','yd']:\n",
    "    num_yd = int(input('Enter number of feet: '))\n",
    "    if convert_to.lower() in ['inches', 'in', 'inch']:\n",
    "        print(str(num_yd) + ' yards = ' + str(num_yd * 36) + ' inches')\n",
    "    elif convert_to.lower() in ['feet', 'ft', 'foot']:\n",
    "        print(str(num_yd) + ' yards = ' + str(num_yd * 3) + ' feet')\n",
    "    else:\n",
    "        print('Your input is invalid!')\n",
    "else:\n",
    "    print('Your input is invalid!')"
   ]
  },
  {
   "cell_type": "markdown",
   "id": "4187c2c5-b9f2-4466-847c-316cb0e7b6ea",
   "metadata": {},
   "source": [
    "Takeaways:\n",
    "- if certain variable/function are different colour than they are suppose to be,\n",
    "    check directly before them for possible errors"
   ]
  },
  {
   "cell_type": "code",
   "execution_count": null,
   "id": "bea09832-5c2a-4858-8f47-7bc081a9a0e5",
   "metadata": {},
   "outputs": [],
   "source": []
  }
 ],
 "metadata": {
  "kernelspec": {
   "display_name": "Python [conda env:base] *",
   "language": "python",
   "name": "conda-base-py"
  },
  "language_info": {
   "codemirror_mode": {
    "name": "ipython",
    "version": 3
   },
   "file_extension": ".py",
   "mimetype": "text/x-python",
   "name": "python",
   "nbconvert_exporter": "python",
   "pygments_lexer": "ipython3",
   "version": "3.12.7"
  }
 },
 "nbformat": 4,
 "nbformat_minor": 5
}
