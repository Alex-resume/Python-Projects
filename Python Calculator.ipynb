{
 "cells": [
  {
   "cell_type": "markdown",
   "id": "a0c78a85-2dad-491c-be31-210afef4924f",
   "metadata": {},
   "source": [
    "## Python Calculator\n"
   ]
  },
  {
   "cell_type": "code",
   "execution_count": 7,
   "id": "c85fd2b4-43e1-4e11-b89d-44781087712d",
   "metadata": {},
   "outputs": [],
   "source": [
    "# REMEMBER TO RUN THIS SECTION\n",
    "def add(x,y):\n",
    "    return x + y\n",
    "\n",
    "def subtract(x,y):\n",
    "    return x - y\n",
    "\n",
    "def multiply(x,y):\n",
    "    return x * y\n",
    "\n",
    "def divide(x,y):\n",
    "    return x / y\n",
    "\n",
    "# defining the functions for the calculator\n",
    "# REMEMBER TO RUN THIS SECTION"
   ]
  },
  {
   "cell_type": "code",
   "execution_count": 11,
   "id": "ddb05a54-5264-40d9-8f9e-f8678fa8ddd6",
   "metadata": {},
   "outputs": [
    {
     "name": "stdout",
     "output_type": "stream",
     "text": [
      "Enter \"add\" for addition.\n",
      "Enter \"subtract\" for subtraction.\n",
      "Enter \"multiply\" for multiplication.\n",
      "Enter \"divide\" for division.\n",
      "Enter \"stop\" to close the calculator.\n"
     ]
    },
    {
     "name": "stdin",
     "output_type": "stream",
     "text": [
      "Please enter one of the above choices:  add\n",
      "Enter the first number:  5\n",
      "Enter the second number:  87\n"
     ]
    },
    {
     "name": "stdout",
     "output_type": "stream",
     "text": [
      "5.0 + 87.0 = 92.0\n"
     ]
    },
    {
     "name": "stdin",
     "output_type": "stream",
     "text": [
      "Please enter one of the above choices:  stop\n"
     ]
    },
    {
     "name": "stdout",
     "output_type": "stream",
     "text": [
      "program stopped, have a nice day!\n"
     ]
    }
   ],
   "source": [
    "print('Enter \"add\" for addition.')\n",
    "print('Enter \"subtract\" for subtraction.')\n",
    "print('Enter \"multiply\" for multiplication.')\n",
    "print('Enter \"divide\" for division.')\n",
    "print('Enter \"stop\" to close the calculator.')\n",
    "# User interface on what to input\n",
    "\n",
    "while True:\n",
    "    choice = input('Please enter one of the above choices: ')\n",
    "\n",
    "    if choice.lower() in ('add' , 'subtract', 'multiply', 'divide'):\n",
    "        num1 = float(input('Enter the first number: '))\n",
    "        num2 = float(input('Enter the second number: '))\n",
    "# input for calculations, .lower() is used in case the user uses uppercase\n",
    "        \n",
    "        if choice.lower() in 'add':\n",
    "            print(num1, '+', num2, '=', add(num1, num2))\n",
    "        elif choice.lower() in 'subtract':\n",
    "            print(num1, '-', num2, '=', subtract(num1, num2))\n",
    "        elif choice.lower() in 'multiply':\n",
    "            print(num1, '*', num2, '=', multiply(num1, num2))\n",
    "        elif choice.lower() in 'divide':\n",
    "            print(num1, '/', num2, '=', divide(num1, num2))\n",
    "# calculating the inputted values using predefined functions\n",
    "    \n",
    "    elif choice.lower() in 'stop':\n",
    "        print('Program stopped, have a nice day!')\n",
    "        break\n",
    "# a way to stop the function so it doesn't end up being an infinite loop\n",
    "    \n",
    "    else:\n",
    "        print('Please input a given choice.')\n",
    "# making sure the user input something that can be recongized\n"
   ]
  },
  {
   "cell_type": "code",
   "execution_count": null,
   "id": "2d8cfe3d-3eea-478c-9075-9b7a61ae1438",
   "metadata": {},
   "outputs": [],
   "source": []
  },
  {
   "cell_type": "code",
   "execution_count": null,
   "id": "c9a43c45-3874-495b-ace1-0c8c02b169ec",
   "metadata": {},
   "outputs": [],
   "source": []
  }
 ],
 "metadata": {
  "kernelspec": {
   "display_name": "Python [conda env:base] *",
   "language": "python",
   "name": "conda-base-py"
  },
  "language_info": {
   "codemirror_mode": {
    "name": "ipython",
    "version": 3
   },
   "file_extension": ".py",
   "mimetype": "text/x-python",
   "name": "python",
   "nbconvert_exporter": "python",
   "pygments_lexer": "ipython3",
   "version": "3.12.7"
  }
 },
 "nbformat": 4,
 "nbformat_minor": 5
}
