{
 "cells": [
  {
   "cell_type": "markdown",
   "id": "c30aba87-60a9-4189-b59c-0dfe17a92a32",
   "metadata": {},
   "source": [
    "# Word Count from Website"
   ]
  },
  {
   "cell_type": "code",
   "execution_count": 51,
   "id": "8c31ced2-ed69-4c4e-9d72-19d46777f8b0",
   "metadata": {},
   "outputs": [],
   "source": [
    "from bs4 import BeautifulSoup\n",
    "import requests\n",
    "import re\n",
    "import pandas as pd"
   ]
  },
  {
   "cell_type": "code",
   "execution_count": 15,
   "id": "25b3567a-2622-46a1-8d48-1c60f5ad166a",
   "metadata": {},
   "outputs": [
    {
     "name": "stdout",
     "output_type": "stream",
     "text": [
      "<!DOCTYPE HTML PUBLIC \"-//IETF//DTD HTML//EN\">\n",
      "<html>\n",
      "<head>\n",
      "<meta content=\"text/html; charset=utf-8\" http-equiv=\"Content-Type\"/>\n",
      "<meta content=\"Microsoft FrontPage 4.0\" name=\"GENERATOR\"/>\n",
      "<title>Martin Luther King Jr.'s 1962 Speech</title>\n",
      "</head>\n",
      "<body alink=\"#FF0000\" bgcolor=\"#FFFFFF\" link=\"#0000FF\" text=\"#000000\" vlink=\"#551A8B\">\n",
      "<h1><font size=\"5\">Transcript of speech by </font><br/>\n",
      "Dr. Martin Luther King Jr. <br/>\n",
      "August 28, 1963. Lincoln Memorial in Washington D.C. </h1>\n",
      "<hr color=\"#008080\" noshade=\"\" size=\"5\"/>\n",
      "<p>I am happy to join with you today in what will go down in\n",
      "history as the greatest demonstration for freedom in the history\n",
      "of our nation. </p>\n",
      "<p>Five score years ago a great American in whose symbolic shadow\n",
      "we stand today signed the Emancipation Proclamation. This\n",
      "momentous decree came as a great beckoning light of hope to\n",
      "millions of Negro slaves who had been seared in the flames of\n",
      "withering injustice. It came as a joyous daybreak to end the long\n",
      "night of their captivity. </p>\n",
      "<p>But one hundred years later the Negro is still not free. One\n",
      "hundred years later the life of the Negro is still sadly crippled\n",
      "by the manacles of segregation and the chains of discrimination. </p>\n",
      "<p>One hundred years later the Negro lives on a lonely island of\n",
      "poverty in the midst of a vast ocean of material prosperity. </p>\n",
      "<p>One hundred years later the Negro is still languishing in the\n",
      "comers of American society and finds himself in exile in his own\n",
      "land. </p>\n",
      "<p>We all have come to this hallowed spot to remind America of\n",
      "the fierce urgency of now. Now is the time to rise from the dark\n",
      "and desolate valley of segregation to the sunlit path of racial\n",
      "justice. Now is the time to change racial injustice to the solid\n",
      "rock of brotherhood. Now is the time to make justice ring out for\n",
      "all of God's children. </p>\n",
      "<p>There will be neither rest nor tranquility in America until\n",
      "the Negro is granted citizenship rights. </p>\n",
      "<p>We must forever conduct our struggle on the high plane of\n",
      "dignity and discipline. We must not allow our creative protest to\n",
      "degenerate into physical violence. Again and again we must rise\n",
      "to the majestic heights of meeting physical force with soul\n",
      "force. </p>\n",
      "<p>And the marvelous new militarism which has engulfed the Negro\n",
      "community must not lead us to a distrust of all white people, for\n",
      "many of our white brothers have evidenced by their presence here\n",
      "today that they have come to realize that their destiny is part\n",
      "of our destiny. </p>\n",
      "<p>So even though we face the difficulties of today and tomorrow\n",
      "I still have a dream. It is a dream deeply rooted in the American\n",
      "dream. </p>\n",
      "<p>I have a dream that one day this nation will rise up and live\n",
      "out the true meaning of its creed: 'We hold these truths to be\n",
      "self-evident; that all men are created equal.\" </p>\n",
      "<p>I have a dream that one day on the red hills of Georgia the\n",
      "sons of former slaves and the sons of former slave owners will be\n",
      "able to sit together at the table of brotherhood. </p>\n",
      "<p>I have a dream that one day even the state of Mississippi, a\n",
      "state sweltering with the heat of injustice, sweltering with the\n",
      "heat of oppression, will be transformed into an oasis of freedom\n",
      "and justice. </p>\n",
      "<p>I have a dream that little children will one day live in a\n",
      "nation where they will not be judged by the color of their skin\n",
      "but by the content of their character. </p>\n",
      "<p>I have a dream today. </p>\n",
      "<p>I have a dream that one day down in Alabama, with its vicious\n",
      "racists, with its Governor having his lips dripping with the\n",
      "words of interposition and nullification, one day right there in\n",
      "Alabama little black boys and black girls will be able to join\n",
      "hands with little white boys and white girls as sisters and\n",
      "brothers. </p>\n",
      "<p>I have a dream today. </p>\n",
      "<p>I have a dream that one day every valley shall be exalted,\n",
      "every hill and mountain shall be made low, the rough places\n",
      "plains, and the crooked places will be made straight, and before\n",
      "the Lord will be revealed, and all flesh shall see it together. </p>\n",
      "<p>This is our hope. This is the faith that I go back to the\n",
      "mount with. With this faith we will be able to hew out of the\n",
      "mountain of despair a stone of hope. With this faith we will be\n",
      "able to transform the genuine discords of our nation into a\n",
      "beautiful symphony of brotherhood. With this faith we will be\n",
      "able to work together, pray together; to struggle together, to go\n",
      "to jail together, to stand up for freedom forever, )mowing that\n",
      "we will be free one day. </p>\n",
      "<p>And I say to you today my friends, let freedom ring. From the\n",
      "prodigious hilltops of New Hampshire, let freedom ring. From the\n",
      "mighty mountains of New York, let freedom ring. From the mighty\n",
      "Alleghenies of Pennsylvania! </p>\n",
      "<p>Let freedom ring from the snow capped Rockies of Colorado! </p>\n",
      "<p>Let freedom ring from the curvaceous slopes of California! </p>\n",
      "<p>But not only there; let freedom ring from the Stone Mountain\n",
      "of Georgia! </p>\n",
      "<p>Let freedom ring from Lookout Mountain in Tennessee! </p>\n",
      "<p>Let freedom ring from every hill and molehill in Mississippi.\n",
      "From every mountainside, let freedom ring. </p>\n",
      "<p>And when this happens, when we allow freedom to ring, when we\n",
      "let it ring from every village and hamlet, from every state and\n",
      "every city, we will be able to speed up that day when all of\n",
      "God's children, black men and white men, Jews and Gentiles,\n",
      "Protestants and Catholics, will be able to join hands and sing in\n",
      "the words of the old Negro spiritual, \"Free at last! Free at\n",
      "last! Thank God almighty, we're free at last!\" </p>\n",
      "</body>\n",
      "</html>\n",
      "\n"
     ]
    }
   ],
   "source": [
    "url = 'http://www.analytictech.com/mb021/mlk.htm'\n",
    "\n",
    "page = requests.get(url)\n",
    "\n",
    "raw_data = BeautifulSoup(page.text, 'html')\n",
    "\n",
    "print(raw_data)\n",
    "#initial pull, checking how the data looks"
   ]
  },
  {
   "cell_type": "code",
   "execution_count": 37,
   "id": "163e4c09-81d8-48a4-bce5-e75e4765fd22",
   "metadata": {},
   "outputs": [
    {
     "data": {
      "text/plain": [
       "bs4.element.ResultSet"
      ]
     },
     "execution_count": 37,
     "metadata": {},
     "output_type": "execute_result"
    }
   ],
   "source": [
    "clean1 = raw_data.find_all('p')\n",
    "# this is done since the entire MLK speech is embedded in paragraphs\n",
    "\n",
    "type(clean1)\n",
    "# checking to see type, trying to make the entirity of text into a list for easier modification"
   ]
  },
  {
   "cell_type": "code",
   "execution_count": 39,
   "id": "83a39b30-a909-436c-bf87-191136e60961",
   "metadata": {},
   "outputs": [
    {
     "data": {
      "text/plain": [
       "list"
      ]
     },
     "execution_count": 39,
     "metadata": {},
     "output_type": "execute_result"
    }
   ],
   "source": [
    "clean2 = [p.text for p in clean1]\n",
    "\n",
    "type(clean2)\n",
    "# Making the speech into a list"
   ]
  },
  {
   "cell_type": "code",
   "execution_count": 23,
   "id": "3b1d7b9c-da90-48e8-ad2c-c0d47eacdd70",
   "metadata": {},
   "outputs": [
    {
     "data": {
      "text/plain": [
       "str"
      ]
     },
     "execution_count": 23,
     "metadata": {},
     "output_type": "execute_result"
    }
   ],
   "source": [
    "clean3 = ' '. join(clean2)\n",
    "\n",
    "type(clean3)\n",
    "# Making the speech into a long string"
   ]
  },
  {
   "cell_type": "code",
   "execution_count": 41,
   "id": "2a639fc7-8374-4a50-aec6-9706ef073af0",
   "metadata": {},
   "outputs": [],
   "source": [
    "clean4 = clean3.replace('\\r\\n', ' ')\n",
    "# Cleaning out the \"\\r\\n\" in the speech"
   ]
  },
  {
   "cell_type": "code",
   "execution_count": 43,
   "id": "6bbe3d07-4c36-4f20-9d9a-a4278927ffcc",
   "metadata": {},
   "outputs": [],
   "source": [
    "clean5 = re.sub(r'[^\\w\\s]', ' ', clean4)\n",
    "# Removing all non-letter characters"
   ]
  },
  {
   "cell_type": "code",
   "execution_count": 49,
   "id": "99917eff-f060-4afa-bd03-69c338681fbc",
   "metadata": {},
   "outputs": [],
   "source": [
    "fin_speech = clean5.lower()\n",
    "# Putting all letters in lower case for data manipulation"
   ]
  },
  {
   "cell_type": "code",
   "execution_count": 53,
   "id": "b18da502-0966-4f8a-9fef-91fe04eb4ef3",
   "metadata": {},
   "outputs": [],
   "source": [
    "fin_data = re.split(r'\\s+', fin_speech)\n",
    "# Split the entire speech into individual words"
   ]
  },
  {
   "cell_type": "code",
   "execution_count": 55,
   "id": "380eb79e-7379-483a-9166-0cb624abcfd1",
   "metadata": {},
   "outputs": [
    {
     "data": {
      "text/plain": [
       "0     \n",
       "the       54\n",
       "of        49\n",
       "to        29\n",
       "and       27\n",
       "a         20\n",
       "          ..\n",
       "jews       1\n",
       "joyous     1\n",
       "judged     1\n",
       "land       1\n",
       "lord       1\n",
       "Name: count, Length: 324, dtype: int64"
      ]
     },
     "execution_count": 55,
     "metadata": {},
     "output_type": "execute_result"
    }
   ],
   "source": [
    "df = pd.DataFrame(fin_data).value_counts()\n",
    "df\n",
    "#final count of the data for the MLK speech"
   ]
  },
  {
   "cell_type": "code",
   "execution_count": null,
   "id": "076e5399-014e-429b-b31a-4727afc7af36",
   "metadata": {},
   "outputs": [],
   "source": []
  }
 ],
 "metadata": {
  "kernelspec": {
   "display_name": "Python [conda env:base] *",
   "language": "python",
   "name": "conda-base-py"
  },
  "language_info": {
   "codemirror_mode": {
    "name": "ipython",
    "version": 3
   },
   "file_extension": ".py",
   "mimetype": "text/x-python",
   "name": "python",
   "nbconvert_exporter": "python",
   "pygments_lexer": "ipython3",
   "version": "3.12.7"
  }
 },
 "nbformat": 4,
 "nbformat_minor": 5
}
