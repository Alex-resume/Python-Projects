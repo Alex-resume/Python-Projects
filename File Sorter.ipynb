{
 "cells": [
  {
   "cell_type": "markdown",
   "id": "5566c88d-bee9-402e-8c7b-13a1795f7c25",
   "metadata": {},
   "source": [
    "# File Sorter"
   ]
  },
  {
   "cell_type": "code",
   "execution_count": 2,
   "id": "08aeb3df-7b3b-4a20-997e-83487ac307db",
   "metadata": {},
   "outputs": [],
   "source": [
    "import os, shutil"
   ]
  },
  {
   "cell_type": "code",
   "execution_count": 10,
   "id": "18c0bef8-a1b1-4563-8725-5b902836d3b6",
   "metadata": {},
   "outputs": [
    {
     "ename": "OSError",
     "evalue": "[WinError 123] The filename, directory name, or volume label syntax is incorrect: '<insert folder here>CSV'",
     "output_type": "error",
     "traceback": [
      "\u001b[1;31m---------------------------------------------------------------------------\u001b[0m",
      "\u001b[1;31mOSError\u001b[0m                                   Traceback (most recent call last)",
      "Cell \u001b[1;32mIn[10], line 7\u001b[0m\n\u001b[0;32m      5\u001b[0m \u001b[38;5;28;01mfor\u001b[39;00m folder \u001b[38;5;129;01min\u001b[39;00m folders:\n\u001b[0;32m      6\u001b[0m     \u001b[38;5;28;01mif\u001b[39;00m \u001b[38;5;129;01mnot\u001b[39;00m os\u001b[38;5;241m.\u001b[39mpath\u001b[38;5;241m.\u001b[39mexists(path \u001b[38;5;241m+\u001b[39m folder):\n\u001b[1;32m----> 7\u001b[0m         os\u001b[38;5;241m.\u001b[39mmakedirs(path \u001b[38;5;241m+\u001b[39m folder)\n\u001b[0;32m      9\u001b[0m files \u001b[38;5;241m=\u001b[39m os\u001b[38;5;241m.\u001b[39mlistdir(path)\n\u001b[0;32m     11\u001b[0m \u001b[38;5;28;01mfor\u001b[39;00m file \u001b[38;5;129;01min\u001b[39;00m files:\n",
      "File \u001b[1;32m<frozen os>:225\u001b[0m, in \u001b[0;36mmakedirs\u001b[1;34m(name, mode, exist_ok)\u001b[0m\n",
      "\u001b[1;31mOSError\u001b[0m: [WinError 123] The filename, directory name, or volume label syntax is incorrect: '<insert folder here>CSV'"
     ]
    }
   ],
   "source": [
    "path = r'<insert folder here>'\n",
    "#Input path for file location\n",
    "\n",
    "folders = ['CSV', 'Text', 'Images']\n",
    "\n",
    "for folder in folders:\n",
    "    if not os.path.exists(path + folder):\n",
    "        os.makedirs(path + folder)\n",
    "#make the new folders in the file location\n",
    "\n",
    "files = os.listdir(path)\n",
    "\n",
    "for file in files:\n",
    "    if '.csv' in file and not os.path.exists(path + 'CSV\\\\' + file):\n",
    "        shutil.move(path + file, path + 'CSV\\\\' + file)\n",
    "    elif '.png' in file and not os.path.exists(path + 'Images\\\\' + file):\n",
    "        shutil.move(path + file, path + 'Images\\\\' + file)\n",
    "    elif '.txt' in file and not os.path.exists(path + 'Text\\\\' + file):\n",
    "        shutil.move(path + file, path + 'Text\\\\' + file)\n",
    "    else:\n",
    "        break\n",
    "#sorting the files, break is used to prevent infinite loop\n"
   ]
  },
  {
   "cell_type": "code",
   "execution_count": null,
   "id": "c6816194-380b-4279-9070-8bd216701b6a",
   "metadata": {},
   "outputs": [],
   "source": []
  }
 ],
 "metadata": {
  "kernelspec": {
   "display_name": "Python [conda env:base] *",
   "language": "python",
   "name": "conda-base-py"
  },
  "language_info": {
   "codemirror_mode": {
    "name": "ipython",
    "version": 3
   },
   "file_extension": ".py",
   "mimetype": "text/x-python",
   "name": "python",
   "nbconvert_exporter": "python",
   "pygments_lexer": "ipython3",
   "version": "3.12.7"
  }
 },
 "nbformat": 4,
 "nbformat_minor": 5
}
