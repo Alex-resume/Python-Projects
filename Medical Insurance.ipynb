{
 "cells": [
  {
   "cell_type": "markdown",
   "id": "9d16ed3f-7344-4df3-9131-d7fa781b233d",
   "metadata": {},
   "source": [
    "## Medical Insurance Excercise\n"
   ]
  },
  {
   "cell_type": "code",
   "execution_count": 2,
   "id": "6836a640-b40f-45ca-9279-ad85b5b3d64b",
   "metadata": {},
   "outputs": [],
   "source": [
    "# create the initial variables below\n",
    "age = 28\n",
    "sex = 0\n",
    "bmi = 26.2\n",
    "num_of_children = 3\n",
    "smoker = 0"
   ]
  },
  {
   "cell_type": "code",
   "execution_count": 6,
   "id": "22ddfe36-ed36-44d1-a1f3-f581e357c667",
   "metadata": {},
   "outputs": [
    {
     "name": "stdout",
     "output_type": "stream",
     "text": [
      "This person's insurance cost is 5469.0 dollars.\n"
     ]
    }
   ],
   "source": [
    "# Add insurance estimate formula below\n",
    "insurance_cost = 250 * age - 128 * sex + 370 * bmi + 425 * num_of_children + 24000 * smoker - 12500\n",
    "\n",
    "print(\"This person's insurance cost is \" + str(insurance_cost) + \" dollars.\")"
   ]
  },
  {
   "cell_type": "code",
   "execution_count": 8,
   "id": "6e4a7322-5cc2-4e93-8d5f-42927aac8524",
   "metadata": {},
   "outputs": [
    {
     "name": "stdout",
     "output_type": "stream",
     "text": [
      "The change in cost of insurance after increasing the age by 4 years is 1000.0 dollars.\n"
     ]
    }
   ],
   "source": [
    "# Age Factor\n",
    "age += 4\n",
    "new_insurance_cost = 250 * age - 128 * sex + 370 * bmi + 425 * num_of_children + 24000 * smoker - 12500\n",
    "\n",
    "change_in_insurance_cost = new_insurance_cost - insurance_cost\n",
    "\n",
    "print(\"The change in cost of insurance after increasing the age by 4 years is \" + str(change_in_insurance_cost) + \" dollars.\")"
   ]
  },
  {
   "cell_type": "code",
   "execution_count": 10,
   "id": "8e0565f8-6760-4288-af6e-226a24c26940",
   "metadata": {},
   "outputs": [
    {
     "name": "stdout",
     "output_type": "stream",
     "text": [
      "The change in cost of insurance after increasing the BMI by 3.1 is 1147.0 dollars.\n"
     ]
    }
   ],
   "source": [
    "# BMI Factor\n",
    "age -= 4\n",
    "bmi += 3.1\n",
    "\n",
    "new_insurance_cost = 250 * age - 128 * sex + 370 * bmi + 425 * num_of_children + 24000 * smoker - 12500\n",
    "\n",
    "change_in_insurance_cost = new_insurance_cost - insurance_cost\n",
    "\n",
    "print(\"The change in cost of insurance after increasing the BMI by 3.1 is \" + str(change_in_insurance_cost) + \" dollars.\")"
   ]
  },
  {
   "cell_type": "code",
   "execution_count": 14,
   "id": "e318cb36-3ef7-401f-a2de-47b3269bfd57",
   "metadata": {},
   "outputs": [
    {
     "name": "stdout",
     "output_type": "stream",
     "text": [
      "The change in estimated cost for being male instead of female is -128.0 dollars.\n"
     ]
    }
   ],
   "source": [
    "# Male vs. Female Factor\n",
    "sex = 1\n",
    "bmi = 26.2\n",
    "new_insurance_cost = 250 * age - 128 * sex + 370 * bmi + 425 * num_of_children + 24000 * smoker - 12500\n",
    "\n",
    "change_in_insurance_cost = new_insurance_cost - insurance_cost\n",
    "\n",
    "print(\"The change in estimated cost for being male instead of female is \" + str(change_in_insurance_cost) + \" dollars.\")"
   ]
  },
  {
   "cell_type": "markdown",
   "id": "6052bb9b-f812-46d0-abd3-d9c10e8610c5",
   "metadata": {},
   "source": [
    "#### Extra Practice"
   ]
  },
  {
   "cell_type": "code",
   "execution_count": null,
   "id": "56cebe26-f7c7-4079-87c2-3dc31eef39f1",
   "metadata": {},
   "outputs": [],
   "source": [
    "# Smoker\n",
    "sex = 0\n",
    "smoker = 1\n",
    "\n",
    "new_insurance_cost = 250 * age - 128 * sex + 370 * bmi + 425 * num_of_children + 24000 * smoker - 12500\n",
    "\n",
    "change_in_insurance_cost = new_insurance_cost - insurance_cost\n",
    "\n",
    "print(\"The change in estimated cost for being a smoker is \" + str(change_in_insurance_cost) + \" dollars.\")\n",
    "\n",
    "# number of children\n",
    "smoker = 0\n",
    "num_of_children = 0\n",
    "\n",
    "new_insurance_cost = 250 * age - 128 * sex + 370 * bmi + 425 * num_of_children + 24000 * smoker - 12500\n",
    "\n",
    "change_in_insurance_cost = new_insurance_cost - insurance_cost\n",
    "\n",
    "print(\"The change in estimated cost for being childless is \" + str(change_in_insurance_cost) + \" dollars.\")"
   ]
  }
 ],
 "metadata": {
  "kernelspec": {
   "display_name": "Python [conda env:base] *",
   "language": "python",
   "name": "conda-base-py"
  },
  "language_info": {
   "codemirror_mode": {
    "name": "ipython",
    "version": 3
   },
   "file_extension": ".py",
   "mimetype": "text/x-python",
   "name": "python",
   "nbconvert_exporter": "python",
   "pygments_lexer": "ipython3",
   "version": "3.12.7"
  }
 },
 "nbformat": 4,
 "nbformat_minor": 5
}
